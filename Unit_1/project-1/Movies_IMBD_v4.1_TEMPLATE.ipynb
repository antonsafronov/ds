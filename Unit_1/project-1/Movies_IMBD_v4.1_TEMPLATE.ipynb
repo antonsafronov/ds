{
 "cells": [
  {
   "cell_type": "code",
   "execution_count": 1,
   "metadata": {
    "_cell_guid": "b1076dfc-b9ad-4769-8c92-a6c4dae69d19",
    "_uuid": "8f2839f25d086af736a60e9eeb907d3b93b6e0e5",
    "colab": {},
    "colab_type": "code",
    "id": "U2D2gTdJVp90"
   },
   "outputs": [],
   "source": [
    "import numpy as np\n",
    "import pandas as pd\n",
    "import seaborn as sns\n",
    "import matplotlib.pyplot as plt\n",
    "import collections\n",
    "import itertools\n",
    "from collections import Counter"
   ]
  },
  {
   "cell_type": "code",
   "execution_count": 2,
   "metadata": {
    "_cell_guid": "79c7e3d0-c299-4dcb-8224-4455121ee9b0",
    "_uuid": "d629ff2d2480ee46fbb7e2d37f6b5fab8052498a",
    "colab": {},
    "colab_type": "code",
    "id": "oyGfxL3eVp9-"
   },
   "outputs": [
    {
     "data": {
      "text/html": [
       "<div>\n",
       "<style scoped>\n",
       "    .dataframe tbody tr th:only-of-type {\n",
       "        vertical-align: middle;\n",
       "    }\n",
       "\n",
       "    .dataframe tbody tr th {\n",
       "        vertical-align: top;\n",
       "    }\n",
       "\n",
       "    .dataframe thead th {\n",
       "        text-align: right;\n",
       "    }\n",
       "</style>\n",
       "<table border=\"1\" class=\"dataframe\">\n",
       "  <thead>\n",
       "    <tr style=\"text-align: right;\">\n",
       "      <th></th>\n",
       "      <th>imdb_id</th>\n",
       "      <th>budget</th>\n",
       "      <th>revenue</th>\n",
       "      <th>original_title</th>\n",
       "      <th>cast</th>\n",
       "      <th>director</th>\n",
       "      <th>tagline</th>\n",
       "      <th>overview</th>\n",
       "      <th>runtime</th>\n",
       "      <th>genres</th>\n",
       "      <th>production_companies</th>\n",
       "      <th>release_date</th>\n",
       "      <th>vote_average</th>\n",
       "      <th>release_year</th>\n",
       "    </tr>\n",
       "  </thead>\n",
       "  <tbody>\n",
       "    <tr>\n",
       "      <th>407</th>\n",
       "      <td>tt0840361</td>\n",
       "      <td>37000000</td>\n",
       "      <td>154026136</td>\n",
       "      <td>The Town</td>\n",
       "      <td>Ben Affleck|Rebecca Hall|Jeremy Renner|Jon Ham...</td>\n",
       "      <td>Ben Affleck</td>\n",
       "      <td>Welcome to the bank robbery capital of America.</td>\n",
       "      <td>Doug MacRay is a longtime thief, who, smarter ...</td>\n",
       "      <td>125</td>\n",
       "      <td>Crime|Drama|Thriller</td>\n",
       "      <td>Legendary Pictures|GK Films|Thunder Road Pictu...</td>\n",
       "      <td>9/15/2010</td>\n",
       "      <td>6.9</td>\n",
       "      <td>2010</td>\n",
       "    </tr>\n",
       "    <tr>\n",
       "      <th>439</th>\n",
       "      <td>tt1666186</td>\n",
       "      <td>20000000</td>\n",
       "      <td>80547866</td>\n",
       "      <td>Vampires Suck</td>\n",
       "      <td>Chris Riggi|Matt Lanter|Jenn Proske|Ken Jeong|...</td>\n",
       "      <td>Jason Friedberg|Aaron Seltzer</td>\n",
       "      <td>Some sagas just won't die.</td>\n",
       "      <td>Becca, an anxious, non-vampire teen is torn be...</td>\n",
       "      <td>82</td>\n",
       "      <td>Horror|Comedy</td>\n",
       "      <td>20th Century Fox|Regency Enterprises</td>\n",
       "      <td>8/18/2010</td>\n",
       "      <td>4.3</td>\n",
       "      <td>2010</td>\n",
       "    </tr>\n",
       "    <tr>\n",
       "      <th>1848</th>\n",
       "      <td>tt0146882</td>\n",
       "      <td>30000000</td>\n",
       "      <td>47126295</td>\n",
       "      <td>High Fidelity</td>\n",
       "      <td>John Cusack|Iben Hjejle|Todd Louiso|Jack Black...</td>\n",
       "      <td>Stephen Frears</td>\n",
       "      <td>A comedy about fear of commitment, hating your...</td>\n",
       "      <td>When record store owner Rob Gordon gets dumped...</td>\n",
       "      <td>113</td>\n",
       "      <td>Comedy|Drama|Romance|Music</td>\n",
       "      <td>Buena Vista|Touchstone Pictures</td>\n",
       "      <td>3/17/2000</td>\n",
       "      <td>7.0</td>\n",
       "      <td>2000</td>\n",
       "    </tr>\n",
       "    <tr>\n",
       "      <th>1092</th>\n",
       "      <td>tt0319061</td>\n",
       "      <td>70000000</td>\n",
       "      <td>122919055</td>\n",
       "      <td>Big Fish</td>\n",
       "      <td>Ewan McGregor|Albert Finney|Billy Crudup|Jessi...</td>\n",
       "      <td>Tim Burton</td>\n",
       "      <td>An adventure as big as life itself.</td>\n",
       "      <td>Throughout his life Edward Bloom has always be...</td>\n",
       "      <td>125</td>\n",
       "      <td>Adventure|Fantasy|Drama</td>\n",
       "      <td>The Zanuck Company|Columbia Pictures Corporati...</td>\n",
       "      <td>12/25/2003</td>\n",
       "      <td>7.4</td>\n",
       "      <td>2003</td>\n",
       "    </tr>\n",
       "    <tr>\n",
       "      <th>624</th>\n",
       "      <td>tt0499448</td>\n",
       "      <td>225000000</td>\n",
       "      <td>419651413</td>\n",
       "      <td>The Chronicles of Narnia: Prince Caspian</td>\n",
       "      <td>Ben Barnes|William Moseley|Anna Popplewell|Ska...</td>\n",
       "      <td>Andrew Adamson</td>\n",
       "      <td>Hope has a new face.</td>\n",
       "      <td>One year after their incredible adventures in ...</td>\n",
       "      <td>150</td>\n",
       "      <td>Adventure|Family|Fantasy</td>\n",
       "      <td>Walt Disney|Walden Media|Stillking Films|Ozumi...</td>\n",
       "      <td>5/15/2008</td>\n",
       "      <td>6.1</td>\n",
       "      <td>2008</td>\n",
       "    </tr>\n",
       "  </tbody>\n",
       "</table>\n",
       "</div>"
      ],
      "text/plain": [
       "        imdb_id     budget    revenue  \\\n",
       "407   tt0840361   37000000  154026136   \n",
       "439   tt1666186   20000000   80547866   \n",
       "1848  tt0146882   30000000   47126295   \n",
       "1092  tt0319061   70000000  122919055   \n",
       "624   tt0499448  225000000  419651413   \n",
       "\n",
       "                                original_title  \\\n",
       "407                                   The Town   \n",
       "439                              Vampires Suck   \n",
       "1848                             High Fidelity   \n",
       "1092                                  Big Fish   \n",
       "624   The Chronicles of Narnia: Prince Caspian   \n",
       "\n",
       "                                                   cast  \\\n",
       "407   Ben Affleck|Rebecca Hall|Jeremy Renner|Jon Ham...   \n",
       "439   Chris Riggi|Matt Lanter|Jenn Proske|Ken Jeong|...   \n",
       "1848  John Cusack|Iben Hjejle|Todd Louiso|Jack Black...   \n",
       "1092  Ewan McGregor|Albert Finney|Billy Crudup|Jessi...   \n",
       "624   Ben Barnes|William Moseley|Anna Popplewell|Ska...   \n",
       "\n",
       "                           director  \\\n",
       "407                     Ben Affleck   \n",
       "439   Jason Friedberg|Aaron Seltzer   \n",
       "1848                 Stephen Frears   \n",
       "1092                     Tim Burton   \n",
       "624                  Andrew Adamson   \n",
       "\n",
       "                                                tagline  \\\n",
       "407     Welcome to the bank robbery capital of America.   \n",
       "439                          Some sagas just won't die.   \n",
       "1848  A comedy about fear of commitment, hating your...   \n",
       "1092                An adventure as big as life itself.   \n",
       "624                                Hope has a new face.   \n",
       "\n",
       "                                               overview  runtime  \\\n",
       "407   Doug MacRay is a longtime thief, who, smarter ...      125   \n",
       "439   Becca, an anxious, non-vampire teen is torn be...       82   \n",
       "1848  When record store owner Rob Gordon gets dumped...      113   \n",
       "1092  Throughout his life Edward Bloom has always be...      125   \n",
       "624   One year after their incredible adventures in ...      150   \n",
       "\n",
       "                          genres  \\\n",
       "407         Crime|Drama|Thriller   \n",
       "439                Horror|Comedy   \n",
       "1848  Comedy|Drama|Romance|Music   \n",
       "1092     Adventure|Fantasy|Drama   \n",
       "624     Adventure|Family|Fantasy   \n",
       "\n",
       "                                   production_companies release_date  \\\n",
       "407   Legendary Pictures|GK Films|Thunder Road Pictu...    9/15/2010   \n",
       "439                20th Century Fox|Regency Enterprises    8/18/2010   \n",
       "1848                    Buena Vista|Touchstone Pictures    3/17/2000   \n",
       "1092  The Zanuck Company|Columbia Pictures Corporati...   12/25/2003   \n",
       "624   Walt Disney|Walden Media|Stillking Films|Ozumi...    5/15/2008   \n",
       "\n",
       "      vote_average  release_year  \n",
       "407            6.9          2010  \n",
       "439            4.3          2010  \n",
       "1848           7.0          2000  \n",
       "1092           7.4          2003  \n",
       "624            6.1          2008  "
      ]
     },
     "execution_count": 2,
     "metadata": {},
     "output_type": "execute_result"
    }
   ],
   "source": [
    "data = pd.read_csv('movie_bd_v5.csv', encoding='cp1251')\n",
    "data.sample(5)"
   ]
  },
  {
   "cell_type": "code",
   "execution_count": 3,
   "metadata": {
    "colab": {},
    "colab_type": "code",
    "id": "CoYUnagMVp-C"
   },
   "outputs": [
    {
     "data": {
      "text/html": [
       "<div>\n",
       "<style scoped>\n",
       "    .dataframe tbody tr th:only-of-type {\n",
       "        vertical-align: middle;\n",
       "    }\n",
       "\n",
       "    .dataframe tbody tr th {\n",
       "        vertical-align: top;\n",
       "    }\n",
       "\n",
       "    .dataframe thead th {\n",
       "        text-align: right;\n",
       "    }\n",
       "</style>\n",
       "<table border=\"1\" class=\"dataframe\">\n",
       "  <thead>\n",
       "    <tr style=\"text-align: right;\">\n",
       "      <th></th>\n",
       "      <th>budget</th>\n",
       "      <th>revenue</th>\n",
       "      <th>runtime</th>\n",
       "      <th>vote_average</th>\n",
       "      <th>release_year</th>\n",
       "    </tr>\n",
       "  </thead>\n",
       "  <tbody>\n",
       "    <tr>\n",
       "      <th>count</th>\n",
       "      <td>1.889000e+03</td>\n",
       "      <td>1.889000e+03</td>\n",
       "      <td>1889.000000</td>\n",
       "      <td>1889.000000</td>\n",
       "      <td>1889.000000</td>\n",
       "    </tr>\n",
       "    <tr>\n",
       "      <th>mean</th>\n",
       "      <td>5.431083e+07</td>\n",
       "      <td>1.553653e+08</td>\n",
       "      <td>109.658549</td>\n",
       "      <td>6.140762</td>\n",
       "      <td>2007.860773</td>\n",
       "    </tr>\n",
       "    <tr>\n",
       "      <th>std</th>\n",
       "      <td>4.858721e+07</td>\n",
       "      <td>2.146698e+08</td>\n",
       "      <td>18.017041</td>\n",
       "      <td>0.764763</td>\n",
       "      <td>4.468841</td>\n",
       "    </tr>\n",
       "    <tr>\n",
       "      <th>min</th>\n",
       "      <td>5.000000e+06</td>\n",
       "      <td>2.033165e+06</td>\n",
       "      <td>63.000000</td>\n",
       "      <td>3.300000</td>\n",
       "      <td>2000.000000</td>\n",
       "    </tr>\n",
       "    <tr>\n",
       "      <th>25%</th>\n",
       "      <td>2.000000e+07</td>\n",
       "      <td>3.456058e+07</td>\n",
       "      <td>97.000000</td>\n",
       "      <td>5.600000</td>\n",
       "      <td>2004.000000</td>\n",
       "    </tr>\n",
       "    <tr>\n",
       "      <th>50%</th>\n",
       "      <td>3.800000e+07</td>\n",
       "      <td>8.361541e+07</td>\n",
       "      <td>107.000000</td>\n",
       "      <td>6.100000</td>\n",
       "      <td>2008.000000</td>\n",
       "    </tr>\n",
       "    <tr>\n",
       "      <th>75%</th>\n",
       "      <td>7.200000e+07</td>\n",
       "      <td>1.782626e+08</td>\n",
       "      <td>120.000000</td>\n",
       "      <td>6.600000</td>\n",
       "      <td>2012.000000</td>\n",
       "    </tr>\n",
       "    <tr>\n",
       "      <th>max</th>\n",
       "      <td>3.800000e+08</td>\n",
       "      <td>2.781506e+09</td>\n",
       "      <td>214.000000</td>\n",
       "      <td>8.100000</td>\n",
       "      <td>2015.000000</td>\n",
       "    </tr>\n",
       "  </tbody>\n",
       "</table>\n",
       "</div>"
      ],
      "text/plain": [
       "             budget       revenue      runtime  vote_average  release_year\n",
       "count  1.889000e+03  1.889000e+03  1889.000000   1889.000000   1889.000000\n",
       "mean   5.431083e+07  1.553653e+08   109.658549      6.140762   2007.860773\n",
       "std    4.858721e+07  2.146698e+08    18.017041      0.764763      4.468841\n",
       "min    5.000000e+06  2.033165e+06    63.000000      3.300000   2000.000000\n",
       "25%    2.000000e+07  3.456058e+07    97.000000      5.600000   2004.000000\n",
       "50%    3.800000e+07  8.361541e+07   107.000000      6.100000   2008.000000\n",
       "75%    7.200000e+07  1.782626e+08   120.000000      6.600000   2012.000000\n",
       "max    3.800000e+08  2.781506e+09   214.000000      8.100000   2015.000000"
      ]
     },
     "execution_count": 3,
     "metadata": {},
     "output_type": "execute_result"
    }
   ],
   "source": [
    "data.describe()"
   ]
  },
  {
   "cell_type": "markdown",
   "metadata": {
    "colab_type": "text",
    "id": "DTIt7ezGVp-G"
   },
   "source": [
    "# Предобработка"
   ]
  },
  {
   "cell_type": "code",
   "execution_count": 4,
   "metadata": {
    "colab": {},
    "colab_type": "code",
    "id": "jNb40DwKVp-H"
   },
   "outputs": [],
   "source": [
    "answers = {} # создадим словарь для ответов\n",
    "\n",
    "# тут другие ваши предобработки колонок например:\n",
    "\n",
    "#the time given in the dataset is in string format.\n",
    "#So we need to change this in datetime format\n",
    "# ..."
   ]
  },
  {
   "cell_type": "markdown",
   "metadata": {
    "colab_type": "text",
    "id": "YxZaH-nPVp-L"
   },
   "source": [
    "# 1. У какого фильма из списка самый большой бюджет?"
   ]
  },
  {
   "cell_type": "markdown",
   "metadata": {
    "colab_type": "text",
    "id": "Nd-G5gX6Vp-M"
   },
   "source": [
    "Использовать варианты ответов в коде решения запрещено.    \n",
    "Вы думаете и в жизни у вас будут варианты ответов?)"
   ]
  },
  {
   "cell_type": "code",
   "execution_count": 5,
   "metadata": {
    "colab": {},
    "colab_type": "code",
    "id": "uVnXAY5RVp-O"
   },
   "outputs": [],
   "source": [
    "# в словарь вставляем номер вопроса и ваш ответ на него\n",
    "# Пример: \n",
    "answers['1'] = '2. Spider-Man 3 (tt0413300)'\n",
    "# запишите свой вариант ответа\n",
    "answers['1'] = '...'\n",
    "# если ответили верно, можете добавить комментарий со значком \"+\""
   ]
  },
  {
   "cell_type": "code",
   "execution_count": 6,
   "metadata": {
    "colab": {},
    "colab_type": "code",
    "id": "dZwb3m28Vp-S"
   },
   "outputs": [
    {
     "data": {
      "text/plain": [
       "723    Pirates of the Caribbean: On Stranger Tides (t...\n",
       "dtype: object"
      ]
     },
     "metadata": {},
     "output_type": "display_data"
    }
   ],
   "source": [
    "answer = data[data['budget'].max() == data['budget']]\n",
    "answers['1'] = answer['original_title']+' ('+answer['imdb_id']+')'\n",
    "display(answers['1'])"
   ]
  },
  {
   "cell_type": "markdown",
   "metadata": {
    "colab_type": "text",
    "id": "K7L3nbRXVp-X"
   },
   "source": [
    "ВАРИАНТ 2"
   ]
  },
  {
   "cell_type": "code",
   "execution_count": 7,
   "metadata": {
    "colab": {},
    "colab_type": "code",
    "id": "OGaoQI7rVp-X"
   },
   "outputs": [],
   "source": [
    "# можно добавлять разные варианты решения"
   ]
  },
  {
   "cell_type": "markdown",
   "metadata": {
    "colab_type": "text",
    "id": "FNRbbI3vVp-c"
   },
   "source": [
    "# 2. Какой из фильмов самый длительный (в минутах)?"
   ]
  },
  {
   "cell_type": "code",
   "execution_count": 8,
   "metadata": {
    "colab": {},
    "colab_type": "code",
    "id": "vHAoEXNTVp-d"
   },
   "outputs": [
    {
     "data": {
      "text/plain": [
       "'Gods and Generals (tt0279111)'"
      ]
     },
     "metadata": {},
     "output_type": "display_data"
    }
   ],
   "source": [
    "# думаю логику работы с этим словарем вы уже поняли, \n",
    "# по этому не буду больше его дублировать\n",
    "long_movie = data.sort_values(by='runtime', ascending=False).iloc[0]\n",
    "answers['2'] = long_movie['original_title']+' ('+long_movie['imdb_id']+')'\n",
    "display(answers['2'])"
   ]
  },
  {
   "cell_type": "markdown",
   "metadata": {
    "colab_type": "text",
    "id": "bapLlpW8Vp-k"
   },
   "source": [
    "# 3. Какой из фильмов самый короткий (в минутах)?\n",
    "\n",
    "\n",
    "\n"
   ]
  },
  {
   "cell_type": "code",
   "execution_count": 9,
   "metadata": {
    "colab": {},
    "colab_type": "code",
    "id": "YBxaSHuAVp-l"
   },
   "outputs": [
    {
     "data": {
      "text/plain": [
       "'Winnie the Pooh (tt1449283)'"
      ]
     },
     "metadata": {},
     "output_type": "display_data"
    }
   ],
   "source": [
    "long_movie = data.sort_values(by='runtime', ascending=True).iloc[0]\n",
    "answers['3'] = long_movie['original_title']+' ('+long_movie['imdb_id']+')'\n",
    "display(answers['3'])"
   ]
  },
  {
   "cell_type": "markdown",
   "metadata": {
    "colab_type": "text",
    "id": "TfQbxbfNVp-p"
   },
   "source": [
    "# 4. Какова средняя длительность фильмов?\n"
   ]
  },
  {
   "cell_type": "code",
   "execution_count": 10,
   "metadata": {
    "colab": {},
    "colab_type": "code",
    "id": "5K6dKZYVVp-q"
   },
   "outputs": [
    {
     "data": {
      "text/plain": [
       "110.0"
      ]
     },
     "metadata": {},
     "output_type": "display_data"
    }
   ],
   "source": [
    "answers['4'] = round(data['runtime'].mean(),0)\n",
    "display(answers['4'])"
   ]
  },
  {
   "cell_type": "markdown",
   "metadata": {
    "colab_type": "text",
    "id": "r5TvbnT_Vp-u"
   },
   "source": [
    "# 5. Каково медианное значение длительности фильмов? "
   ]
  },
  {
   "cell_type": "code",
   "execution_count": 11,
   "metadata": {
    "colab": {},
    "colab_type": "code",
    "id": "iBROplKnVp-v"
   },
   "outputs": [
    {
     "data": {
      "text/plain": [
       "107.0"
      ]
     },
     "metadata": {},
     "output_type": "display_data"
    }
   ],
   "source": [
    "answers['5'] = round(data['runtime'].median(),0)\n",
    "display(answers['5'])"
   ]
  },
  {
   "cell_type": "markdown",
   "metadata": {
    "colab_type": "text",
    "id": "39P-deDSVp-y"
   },
   "source": [
    "# 6. Какой самый прибыльный фильм?\n",
    "#### Внимание! Здесь и далее под «прибылью» или «убытками» понимается разность между сборами и бюджетом фильма. (прибыль = сборы - бюджет) в нашем датасете это будет (profit = revenue - budget) "
   ]
  },
  {
   "cell_type": "code",
   "execution_count": 12,
   "metadata": {
    "colab": {},
    "colab_type": "code",
    "id": "UYZh4T9WVp-y"
   },
   "outputs": [
    {
     "data": {
      "text/plain": [
       "'Avatar (tt0499549)'"
      ]
     },
     "metadata": {},
     "output_type": "display_data"
    }
   ],
   "source": [
    "data['profit'] = data['revenue'] - data['budget']\n",
    "profit = data.sort_values(by='profit', ascending=False).iloc[0]\n",
    "answers['6'] = profit['original_title']+' ('+profit['imdb_id']+')'\n",
    "display(answers['6'])"
   ]
  },
  {
   "cell_type": "markdown",
   "metadata": {
    "colab_type": "text",
    "id": "M99JmIX4Vp-2"
   },
   "source": [
    "# 7. Какой фильм самый убыточный? "
   ]
  },
  {
   "cell_type": "code",
   "execution_count": 13,
   "metadata": {
    "colab": {},
    "colab_type": "code",
    "id": "w-D2m4XPVp-3"
   },
   "outputs": [
    {
     "data": {
      "text/plain": [
       "'The Lone Ranger (tt1210819)'"
      ]
     },
     "metadata": {},
     "output_type": "display_data"
    }
   ],
   "source": [
    "defit = data.sort_values(by='profit', ascending=True).iloc[0]\n",
    "answers['7'] = defit['original_title']+' ('+defit['imdb_id']+')'\n",
    "display(answers['7'])"
   ]
  },
  {
   "cell_type": "markdown",
   "metadata": {
    "colab_type": "text",
    "id": "wEOM5ERVVp-6"
   },
   "source": [
    "# 8. У скольких фильмов из датасета объем сборов оказался выше бюджета?"
   ]
  },
  {
   "cell_type": "code",
   "execution_count": 14,
   "metadata": {
    "colab": {},
    "colab_type": "code",
    "id": "y00_7HD6Vp-7"
   },
   "outputs": [
    {
     "data": {
      "text/plain": [
       "1478"
      ]
     },
     "metadata": {},
     "output_type": "display_data"
    }
   ],
   "source": [
    "answers['8'] = data[data['profit'] > 0]['profit'].count()\n",
    "display(answers['8'])"
   ]
  },
  {
   "cell_type": "markdown",
   "metadata": {
    "colab_type": "text",
    "id": "xhpspA9KVp_A"
   },
   "source": [
    "# 9. Какой фильм оказался самым кассовым в 2008 году?"
   ]
  },
  {
   "cell_type": "code",
   "execution_count": 15,
   "metadata": {
    "colab": {},
    "colab_type": "code",
    "id": "MoUyQr9RVp_B"
   },
   "outputs": [
    {
     "data": {
      "text/plain": [
       "'The Dark Knight (tt0468569)'"
      ]
     },
     "metadata": {},
     "output_type": "display_data"
    }
   ],
   "source": [
    "profit = data[data['release_year'] == 2008].sort_values(by='profit', ascending=False).iloc[0]\n",
    "answers['9'] = profit['original_title']+' ('+profit['imdb_id']+')'\n",
    "display(answers['9'])"
   ]
  },
  {
   "cell_type": "markdown",
   "metadata": {
    "colab_type": "text",
    "id": "Zi4hDKidVp_F"
   },
   "source": [
    "# 10. Самый убыточный фильм за период с 2012 по 2014 г. (включительно)?\n"
   ]
  },
  {
   "cell_type": "code",
   "execution_count": 16,
   "metadata": {
    "colab": {},
    "colab_type": "code",
    "id": "XqyRmufJVp_F"
   },
   "outputs": [
    {
     "data": {
      "text/plain": [
       "'The Lone Ranger (tt1210819)'"
      ]
     },
     "metadata": {},
     "output_type": "display_data"
    }
   ],
   "source": [
    "profit = data.query('release_year>=2012 and release_year<=2014').sort_values(by='profit', ascending=True).iloc[0]\n",
    "answers['10'] = profit['original_title']+' ('+profit['imdb_id']+')'\n",
    "display(answers['10'])"
   ]
  },
  {
   "cell_type": "markdown",
   "metadata": {
    "colab_type": "text",
    "id": "EA7Sa9dkVp_I"
   },
   "source": [
    "# 11. Какого жанра фильмов больше всего?"
   ]
  },
  {
   "cell_type": "code",
   "execution_count": 17,
   "metadata": {
    "colab": {},
    "colab_type": "code",
    "id": "zsJAwJ8QVp_J"
   },
   "outputs": [
    {
     "name": "stdout",
     "output_type": "stream",
     "text": [
      "Drama\n"
     ]
    }
   ],
   "source": [
    "# эту задачу тоже можно решать разными подходами, попробуй реализовать разные варианты\n",
    "# если будешь добавлять функцию - выноси ее в предобработку что в начале\n",
    "list_genres = collections.Counter()\n",
    "for genre in data['genres']:\n",
    "    for g in genre.split('|'):\n",
    "        list_genres[g]+=1\n",
    "answers['11'] = list_genres.most_common(1)[0][0]\n",
    "print(answers['11'])"
   ]
  },
  {
   "cell_type": "markdown",
   "metadata": {
    "colab_type": "text",
    "id": "Ax6g2C8SVp_M"
   },
   "source": [
    "ВАРИАНТ 2"
   ]
  },
  {
   "cell_type": "code",
   "execution_count": 18,
   "metadata": {
    "colab": {},
    "colab_type": "code",
    "id": "otO3SbrSVp_N"
   },
   "outputs": [],
   "source": [
    "edata = pd.read_csv('movie_bd_v5.csv')\n",
    "edata['genres'] = edata.genres.apply(lambda x: x.split('|'))\n",
    "g_data = edata.explode('genres')\n",
    "g_data['director'] = g_data.director.apply(lambda x: x.split('|'))\n",
    "g_data = g_data.explode('director')\n",
    "g_data['cast'] = g_data.cast.apply(lambda x: x.split('|'))\n",
    "g_data = g_data.explode('cast')\n",
    "g_data['profit'] = g_data['revenue'] - g_data['budget']\n",
    "g_data[['imdb_id','genres']].drop_duplicates().groupby(['genres']).count().sort_values(by=['imdb_id'], ascending = False).iloc[0].name\n",
    "g_data['production_companies'] = g_data.production_companies.apply(lambda x: x.split('|'))\n",
    "g_data = g_data.explode('production_companies')"
   ]
  },
  {
   "cell_type": "markdown",
   "metadata": {
    "colab_type": "text",
    "id": "T9_bPWpkVp_Q"
   },
   "source": [
    "# 12. Фильмы какого жанра чаще всего становятся прибыльными? "
   ]
  },
  {
   "cell_type": "code",
   "execution_count": 19,
   "metadata": {
    "colab": {},
    "colab_type": "code",
    "id": "Tmt8MaK1Vp_R"
   },
   "outputs": [
    {
     "data": {
      "text/plain": [
       "'Drama'"
      ]
     },
     "metadata": {},
     "output_type": "display_data"
    }
   ],
   "source": [
    "profit = g_data.query('profit > 0')[['imdb_id','genres']].drop_duplicates().groupby(['genres']).count().sort_values(by=['imdb_id'], ascending = False).iloc[0].name\n",
    "answers['12'] = profit\n",
    "display(answers['12'])"
   ]
  },
  {
   "cell_type": "markdown",
   "metadata": {
    "colab_type": "text",
    "id": "0F23bgsDVp_U"
   },
   "source": [
    "# 13. У какого режиссера самые большие суммарные кассовые сбооры?"
   ]
  },
  {
   "cell_type": "code",
   "execution_count": 20,
   "metadata": {
    "colab": {},
    "colab_type": "code",
    "id": "K6Z3J8ygVp_X"
   },
   "outputs": [
    {
     "data": {
      "text/plain": [
       "'Peter Jackson'"
      ]
     },
     "metadata": {},
     "output_type": "display_data"
    }
   ],
   "source": [
    "answers['13'] = g_data[['imdb_id','director','revenue']].drop_duplicates().groupby(['director']).sum('revenue').sort_values('revenue', ascending = False).iloc[0].name\n",
    "display(answers['13'])"
   ]
  },
  {
   "cell_type": "markdown",
   "metadata": {
    "colab_type": "text",
    "id": "PsYC9FgRVp_a"
   },
   "source": [
    "# 14. Какой режисер снял больше всего фильмов в стиле Action?"
   ]
  },
  {
   "cell_type": "code",
   "execution_count": 21,
   "metadata": {
    "colab": {},
    "colab_type": "code",
    "id": "wd2M-wHeVp_b"
   },
   "outputs": [
    {
     "data": {
      "text/plain": [
       "'Robert Rodriguez'"
      ]
     },
     "metadata": {},
     "output_type": "display_data"
    }
   ],
   "source": [
    "answers['14'] = g_data[['imdb_id','director','genres']].drop_duplicates().query('genres == \"Action\"').groupby(['director']).count().sort_values(by='genres', ascending=False).iloc[0].name\n",
    "display(answers['14'])"
   ]
  },
  {
   "cell_type": "markdown",
   "metadata": {
    "colab_type": "text",
    "id": "PQ0KciD7Vp_f"
   },
   "source": [
    "# 15. Фильмы с каким актером принесли самые высокие кассовые сборы в 2012 году? "
   ]
  },
  {
   "cell_type": "code",
   "execution_count": 22,
   "metadata": {
    "colab": {},
    "colab_type": "code",
    "id": "aga62oeKVp_g"
   },
   "outputs": [
    {
     "data": {
      "text/plain": [
       "'Chris Hemsworth'"
      ]
     },
     "metadata": {},
     "output_type": "display_data"
    }
   ],
   "source": [
    "answers['15'] = g_data.query('release_year == 2012')[['imdb_id','cast','revenue']].drop_duplicates().groupby(['cast']).sum('revenue').sort_values(by='revenue', ascending=False).iloc[0].name\n",
    "display(answers['15'])"
   ]
  },
  {
   "cell_type": "markdown",
   "metadata": {
    "colab_type": "text",
    "id": "mWHyyL7QVp_j"
   },
   "source": [
    "# 16. Какой актер снялся в большем количестве высокобюджетных фильмов?"
   ]
  },
  {
   "cell_type": "code",
   "execution_count": 23,
   "metadata": {
    "colab": {},
    "colab_type": "code",
    "id": "qQtmHKTFVp_k"
   },
   "outputs": [
    {
     "data": {
      "text/plain": [
       "'Matt Damon'"
      ]
     },
     "metadata": {},
     "output_type": "display_data"
    }
   ],
   "source": [
    "mean_budget = g_data[['imdb_id','budget']].drop_duplicates().mean().budget\n",
    "answers['16'] = g_data[g_data['budget'] > mean_budget][['imdb_id','cast','budget']].drop_duplicates().groupby(['cast']).count().sort_values(by='budget', ascending=False).iloc[0].name\n",
    "display(answers['16'])"
   ]
  },
  {
   "cell_type": "markdown",
   "metadata": {
    "colab_type": "text",
    "id": "NIh6AaW5Vp_n"
   },
   "source": [
    "# 17. В фильмах какого жанра больше всего снимался Nicolas Cage? "
   ]
  },
  {
   "cell_type": "code",
   "execution_count": 24,
   "metadata": {
    "colab": {},
    "colab_type": "code",
    "id": "H74SJDIBVp_n"
   },
   "outputs": [
    {
     "data": {
      "text/plain": [
       "'Action'"
      ]
     },
     "metadata": {},
     "output_type": "display_data"
    }
   ],
   "source": [
    "answers['17'] = g_data.query('cast == \"Nicolas Cage\"')[['imdb_id','genres']].drop_duplicates().groupby(['genres']).count().sort_values(by='imdb_id', ascending=False).iloc[0].name\n",
    "display(answers['17'])"
   ]
  },
  {
   "cell_type": "markdown",
   "metadata": {
    "colab_type": "text",
    "id": "RqOmPRfWVp_q"
   },
   "source": [
    "# 18. Самый убыточный фильм от Paramount Pictures"
   ]
  },
  {
   "cell_type": "code",
   "execution_count": 25,
   "metadata": {
    "colab": {},
    "colab_type": "code",
    "id": "9E_B0Y96Vp_r"
   },
   "outputs": [
    {
     "data": {
      "text/plain": [
       "'K-19: The Widowmaker (tt0267626)'"
      ]
     },
     "metadata": {},
     "output_type": "display_data"
    }
   ],
   "source": [
    "movie = g_data.query('production_companies == \"Paramount Pictures\"').sort_values(by='profit', ascending=True).iloc[0]\n",
    "answers['18'] = '{} ({})'.format(movie.original_title, movie.imdb_id) \n",
    "display(answers['18'])"
   ]
  },
  {
   "cell_type": "markdown",
   "metadata": {
    "colab_type": "text",
    "id": "vS8Ur6ddVp_u"
   },
   "source": [
    "# 19. Какой год стал самым успешным по суммарным кассовым сборам?"
   ]
  },
  {
   "cell_type": "code",
   "execution_count": 26,
   "metadata": {
    "colab": {},
    "colab_type": "code",
    "id": "Dnbt4GdIVp_v"
   },
   "outputs": [
    {
     "data": {
      "text/plain": [
       "2015"
      ]
     },
     "metadata": {},
     "output_type": "display_data"
    }
   ],
   "source": [
    "answers['19'] = g_data[['imdb_id','release_year','profit']].drop_duplicates().groupby(['release_year']).sum('profit').sort_values('release_year', ascending = False).iloc[0].name\n",
    "display(answers['19'])"
   ]
  },
  {
   "cell_type": "markdown",
   "metadata": {
    "colab_type": "text",
    "id": "JAzJh4QAVp_z"
   },
   "source": [
    "# 20. Какой самый прибыльный год для студии Warner Bros?"
   ]
  },
  {
   "cell_type": "code",
   "execution_count": 27,
   "metadata": {
    "colab": {},
    "colab_type": "code",
    "id": "wgVu02DEVp_0"
   },
   "outputs": [
    {
     "data": {
      "text/plain": [
       "2014"
      ]
     },
     "metadata": {},
     "output_type": "display_data"
    }
   ],
   "source": [
    "answers['20'] = g_data.query('production_companies.str.contains(\"Warner Bros\")', engine='python')[['imdb_id','release_year','profit']].drop_duplicates().groupby(['release_year']).sum('profit').sort_values('profit', ascending = False).iloc[0].name\n",
    "display(answers['20'])"
   ]
  },
  {
   "cell_type": "markdown",
   "metadata": {
    "colab_type": "text",
    "id": "8Im1S2HRVp_4"
   },
   "source": [
    "# 21. В каком месяце за все годы суммарно вышло больше всего фильмов?"
   ]
  },
  {
   "cell_type": "code",
   "execution_count": 28,
   "metadata": {
    "colab": {},
    "colab_type": "code",
    "id": "lev6TH7gVp_4"
   },
   "outputs": [
    {
     "data": {
      "text/plain": [
       "'9'"
      ]
     },
     "metadata": {},
     "output_type": "display_data"
    }
   ],
   "source": [
    "g_data['release_month'] = g_data.release_date.apply(lambda x: x.split('/')[0])\n",
    "answers['21'] = g_data[['imdb_id','release_month']].drop_duplicates().groupby(['release_month']).count().sort_values('imdb_id',ascending = False).iloc[0].name\n",
    "display(answers['21'])"
   ]
  },
  {
   "cell_type": "markdown",
   "metadata": {
    "colab_type": "text",
    "id": "uAJsZ_NeVp_7"
   },
   "source": [
    "# 22. Сколько суммарно вышло фильмов летом? (за июнь, июль, август)"
   ]
  },
  {
   "cell_type": "code",
   "execution_count": 29,
   "metadata": {
    "colab": {},
    "colab_type": "code",
    "id": "Aa-hEREoVp_8"
   },
   "outputs": [
    {
     "data": {
      "text/plain": [
       "450"
      ]
     },
     "metadata": {},
     "output_type": "display_data"
    }
   ],
   "source": [
    "g_data['season'] = g_data.release_date.apply(lambda x: (int(x.split('/')[0])%12 + 3)//3)\n",
    "answers['22'] = g_data[['imdb_id','season']].drop_duplicates().groupby(['season']).count().loc[3].imdb_id\n",
    "display(answers['22'])"
   ]
  },
  {
   "cell_type": "markdown",
   "metadata": {
    "colab_type": "text",
    "id": "G94ppOY1VqAA"
   },
   "source": [
    "# 23. Для какого режиссера зима – самое продуктивное время года? "
   ]
  },
  {
   "cell_type": "code",
   "execution_count": 30,
   "metadata": {
    "colab": {},
    "colab_type": "code",
    "id": "RhNTsamuVqAB"
   },
   "outputs": [
    {
     "data": {
      "text/plain": [
       "'Peter Jackson'"
      ]
     },
     "metadata": {},
     "output_type": "display_data"
    }
   ],
   "source": [
    "answers['23'] = g_data.query('season == 1')[['imdb_id','director']].drop_duplicates().groupby(['director']).count().sort_values('imdb_id', ascending = False).iloc[0].name\n",
    "display(answers['23'])"
   ]
  },
  {
   "cell_type": "markdown",
   "metadata": {
    "colab_type": "text",
    "id": "RBo0JVjVVqAF"
   },
   "source": [
    "# 24. Какая студия дает самые длинные названия своим фильмам по количеству символов?"
   ]
  },
  {
   "cell_type": "code",
   "execution_count": 37,
   "metadata": {
    "colab": {},
    "colab_type": "code",
    "id": "QRGS8L0iVqAG"
   },
   "outputs": [
    {
     "data": {
      "text/plain": [
       "'Four By Two Productions'"
      ]
     },
     "metadata": {},
     "output_type": "display_data"
    }
   ],
   "source": [
    "g_data['original_title_cnt'] = g_data.original_title.apply(lambda x: len(x))\n",
    "answers['24'] = g_data[['original_title','production_companies','original_title_cnt']].drop_duplicates().groupby(['production_companies']).mean('original_title_cnt').sort_values('original_title_cnt', ascending = False).iloc[0].name\n",
    "display(answers['24'])"
   ]
  },
  {
   "cell_type": "markdown",
   "metadata": {
    "colab_type": "text",
    "id": "9G0hbvR7VqAK"
   },
   "source": [
    "# 25. Описание фильмов какой студии в среднем самые длинные по количеству слов?"
   ]
  },
  {
   "cell_type": "code",
   "execution_count": 32,
   "metadata": {
    "colab": {},
    "colab_type": "code",
    "id": "Ge2GsLNxVqAK",
    "scrolled": true
   },
   "outputs": [
    {
     "data": {
      "text/plain": [
       "'Midnight Picture Show'"
      ]
     },
     "metadata": {},
     "output_type": "display_data"
    }
   ],
   "source": [
    "g_data['overview_cnt'] = g_data.overview.apply(lambda x: len(x))\n",
    "answers['25'] = g_data[['original_title','production_companies','overview_cnt']].drop_duplicates().groupby(['production_companies']).mean('overview_cnt').sort_values('overview_cnt', ascending = False).iloc[0].name\n",
    "display(answers['25'])"
   ]
  },
  {
   "cell_type": "markdown",
   "metadata": {
    "colab_type": "text",
    "id": "FJ1AFt90VqAP"
   },
   "source": [
    "# 26. Какие фильмы входят в 1 процент лучших по рейтингу? \n",
    "по vote_average"
   ]
  },
  {
   "cell_type": "code",
   "execution_count": 33,
   "metadata": {
    "colab": {},
    "colab_type": "code",
    "id": "8qmJVq4CVqAQ"
   },
   "outputs": [
    {
     "data": {
      "text/plain": [
       "18"
      ]
     },
     "metadata": {},
     "output_type": "display_data"
    },
    {
     "data": {
      "text/plain": [
       "'The Dark Knight,Interstellar,The Imitation Game,Inside Out,Room,The Wolf of Wall Street,Gone Girl,12 Years a Slave,Guardians of the Galaxy,The Lord of the Rings: The Return of the King,Memento,Inception,The Pianist,The Grand Budapest Hotel,Her,Spotlight,Big Hero 6,The Fault in Our Stars'"
      ]
     },
     "metadata": {},
     "output_type": "display_data"
    }
   ],
   "source": [
    "votes = g_data[['original_title','vote_average']].drop_duplicates().sort_values('vote_average', ascending = False)\n",
    "votes_1pc = int(len(votes) * 0.01)\n",
    "display(votes_1pc)\n",
    "answers['26'] = \",\".join(votes[:votes_1pc]['original_title'])\n",
    "display(answers['26'])"
   ]
  },
  {
   "cell_type": "markdown",
   "metadata": {
    "colab_type": "text",
    "id": "MdXsUXbCVqAV"
   },
   "source": [
    "# 27. Какие актеры чаще всего снимаются в одном фильме вместе?\n"
   ]
  },
  {
   "cell_type": "code",
   "execution_count": 34,
   "metadata": {},
   "outputs": [
    {
     "name": "stdout",
     "output_type": "stream",
     "text": [
      "('Daniel Radcliffe', 'Rupert Grint')\n"
     ]
    }
   ],
   "source": [
    "list_actors = collections.Counter()\n",
    "for casts in data['cast']:\n",
    "    for actors in itertools.combinations(casts.split('|'), 2):\n",
    "        list_actors[actors]+=1\n",
    "answers['27'] = list_actors.most_common(1)[0][0]\n",
    "print(answers['27'])"
   ]
  },
  {
   "cell_type": "code",
   "execution_count": null,
   "metadata": {},
   "outputs": [],
   "source": []
  },
  {
   "cell_type": "markdown",
   "metadata": {
    "colab_type": "text",
    "id": "4ymnxEVoVqAW"
   },
   "source": [
    "ВАРИАНТ 2"
   ]
  },
  {
   "cell_type": "code",
   "execution_count": null,
   "metadata": {},
   "outputs": [],
   "source": []
  },
  {
   "cell_type": "markdown",
   "metadata": {
    "colab_type": "text",
    "id": "U0nONFnGVqAX"
   },
   "source": [
    "# Submission"
   ]
  },
  {
   "cell_type": "code",
   "execution_count": 35,
   "metadata": {
    "colab": {},
    "colab_type": "code",
    "id": "IfcaRO9-VqAX",
    "outputId": "0f132912-32bb-4196-c98c-abfbc4ad5a5f"
   },
   "outputs": [
    {
     "data": {
      "text/plain": [
       "{'1': 723    Pirates of the Caribbean: On Stranger Tides (t...\n",
       " dtype: object,\n",
       " '2': 'Gods and Generals (tt0279111)',\n",
       " '3': 'Winnie the Pooh (tt1449283)',\n",
       " '4': 110.0,\n",
       " '5': 107.0,\n",
       " '6': 'Avatar (tt0499549)',\n",
       " '7': 'The Lone Ranger (tt1210819)',\n",
       " '8': 1478,\n",
       " '9': 'The Dark Knight (tt0468569)',\n",
       " '10': 'The Lone Ranger (tt1210819)',\n",
       " '11': 'Drama',\n",
       " '12': 'Drama',\n",
       " '13': 'Peter Jackson',\n",
       " '14': 'Robert Rodriguez',\n",
       " '15': 'Chris Hemsworth',\n",
       " '16': 'Matt Damon',\n",
       " '17': 'Action',\n",
       " '18': 'K-19: The Widowmaker (tt0267626)',\n",
       " '19': 2015,\n",
       " '20': 2014,\n",
       " '21': '9',\n",
       " '22': 450,\n",
       " '23': 'Peter Jackson',\n",
       " '24': 'Warner Bros.',\n",
       " '25': 'Midnight Picture Show',\n",
       " '26': 'The Dark Knight,Interstellar,The Imitation Game,Inside Out,Room,The Wolf of Wall Street,Gone Girl,12 Years a Slave,Guardians of the Galaxy,The Lord of the Rings: The Return of the King,Memento,Inception,The Pianist,The Grand Budapest Hotel,Her,Spotlight,Big Hero 6,The Fault in Our Stars',\n",
       " '27': ('Daniel Radcliffe', 'Rupert Grint')}"
      ]
     },
     "metadata": {},
     "output_type": "display_data"
    }
   ],
   "source": [
    "# в конце можно посмотреть свои ответы к каждому вопросу\n",
    "display(answers)"
   ]
  },
  {
   "cell_type": "code",
   "execution_count": 36,
   "metadata": {
    "colab": {},
    "colab_type": "code",
    "id": "SiRmHPl8VqAd"
   },
   "outputs": [
    {
     "data": {
      "text/plain": [
       "27"
      ]
     },
     "execution_count": 36,
     "metadata": {},
     "output_type": "execute_result"
    }
   ],
   "source": [
    "# и убедиться что ни чего не пропустил)\n",
    "len(answers)"
   ]
  },
  {
   "cell_type": "code",
   "execution_count": null,
   "metadata": {
    "colab": {},
    "colab_type": "code",
    "id": "uCfuTkRbVqAg"
   },
   "outputs": [],
   "source": []
  },
  {
   "cell_type": "code",
   "execution_count": null,
   "metadata": {
    "colab": {},
    "colab_type": "code",
    "id": "Vwx3NrkSVqAl"
   },
   "outputs": [],
   "source": []
  }
 ],
 "metadata": {
  "colab": {
   "name": "Copy of [SF-DST] Movies IMBD v4.1 TEMPLATE.ipynb",
   "provenance": []
  },
  "kernelspec": {
   "display_name": "Python 3",
   "language": "python",
   "name": "python3"
  },
  "language_info": {
   "codemirror_mode": {
    "name": "ipython",
    "version": 3
   },
   "file_extension": ".py",
   "mimetype": "text/x-python",
   "name": "python",
   "nbconvert_exporter": "python",
   "pygments_lexer": "ipython3",
   "version": "3.7.7"
  }
 },
 "nbformat": 4,
 "nbformat_minor": 1
}
